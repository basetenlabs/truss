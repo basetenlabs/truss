{
 "cells": [
  {
   "cell_type": "markdown",
   "metadata": {},
   "source": [
    "# Using Truss on AWS \n",
    "\n",
    "In this guide, we'll cover how to deploy a Truss docker image to AWS using Elastic Container Registry and Elastic Container Service. \n",
    "\n",
    "Before we begin, a quick note on prerequisites. For this example, you'll need to have Docker installed. You'll also need two Python packages.\n",
    "\n",
    "```\n",
    "pip install --upgrade sklearn truss\n",
    "```"
   ]
  },
  {
   "cell_type": "markdown",
   "metadata": {},
   "source": [
    "## Building a model \n",
    "\n",
    "Let's build our model. We'll be using `sklearn` to build a simple classifier on the iris dataset. We'll turn that in-memory model to a Truss and then turn that Truss into a docker image. "
   ]
  },
  {
   "cell_type": "code",
   "execution_count": null,
   "metadata": {},
   "outputs": [],
   "source": [
    "import truss \n",
    "from sklearn.datasets import load_iris\n",
    "from sklearn.ensemble import RandomForestClassifier\n",
    "\n",
    "# Train your model \n",
    "iris = load_iris()\n",
    "data_x = iris['data']\n",
    "data_y = iris['target']\n",
    "rfc_model = RandomForestClassifier()\n",
    "rfc_model.fit(data_x, data_y)"
   ]
  },
  {
   "cell_type": "code",
   "execution_count": null,
   "metadata": {},
   "outputs": [],
   "source": [
    "# Make scaffold \n",
    "scaffold = truss.mk_truss(rfc_model, target_directory='test_rfc_1')\n",
    "# This will produce a folder `test_rfc_1/` relative to your current directory. \n",
    "# Now we'll use Truss to build a Docker image on our local system\n",
    "scaffold.build_docker_image()"
   ]
  },
  {
   "cell_type": "markdown",
   "metadata": {},
   "source": [
    "That's about all the code we'll need for our model! You should be able to run \n",
    "\n",
    "```\n",
    "docker images\n",
    "```\n",
    "\n",
    "and see the resulting image from your Truss. "
   ]
  },
  {
   "cell_type": "markdown",
   "metadata": {},
   "source": [
    "## Installing AWS CLI\n",
    "\n",
    "To push your Truss docker image to ECS, you'll need to have the AWS CLI. \n",
    "\n",
    "```\n",
    "# To download the CLI zip\n",
    "curl \"https://awscli.amazonaws.com/awscli-exe-linux-x86_64.zip\" -o \"awscliv2.zip\"\n",
    "unzip awscliv2.zip\n",
    "sudo ./aws/install\n",
    "```\n",
    "\n",
    "To confirm your installation, run`aws --version`. The output should look something like\n",
    "```\n",
    "aws-cli/2.7.13 Python/3.9.11 Linux/5.4.0-1074-azure exe/x86_64.debian.11 prompt/off\n",
    "```\n",
    "\n",
    "We'll need to authenticate our AWS CLI with our AWS account. AWS has multiple guides on this that depend on your organization or personal account. The simplest way is to run `aws configure` and provide access tokens and keys that can be found on the AWS dashboard. More information [here](https://docs.aws.amazon.com/cli/latest/userguide/cli-chap-configure.html). \n"
   ]
  },
  {
   "cell_type": "markdown",
   "metadata": {},
   "source": [
    "## Creating a repository on AWS \n",
    "\n",
    "Next, you'll have to create an Elastic Container Registry. This will hold your Docker image. To do so:\n",
    "\n",
    "1. Navigate to the ECR console [here](https://console.aws.amazon.com/ecr/repositories). \n",
    "2. Underneath the __Private__ tab, click on __Create Repository__. \n",
    "3. Select your visibility settings and give your repository a unique name. You can choose to turn on image scan or KMS encryption. \n",
    "4. Press __Create Repository__\n",
    "\n",
    "You can also use the AWS CLI to create a repository. To do so, run \n",
    "```\n",
    "aws ecr create-repository --repository-name [REPOSITORY_NAME]\n",
    "```\n",
    "\n"
   ]
  },
  {
   "cell_type": "markdown",
   "metadata": {},
   "source": [
    "## Authenticating Docker client\n",
    "In order to push to the registry, you'll need to authenticate your Docker client to your registry. To find how to do this, \n",
    "1. Click into your ECR registry \n",
    "2. At the top right, click on __Push commands__\n",
    "3. Copy the first command; the command that copies the auth token from AWS and authenticates the Docker client to your specific registry. It should look something like \n",
    "```\n",
    "aws ecr get-login-password --region [YOUR_REGION] | docker login --username AWS --password-stdin [AWS_ACCOUNT_ID].dkr.ecr.[AWS_REGION].amazonaws.com\n",
    "```\n",
    "4. You should see the command exit with \"Login succeeded\"\n",
    "\n",
    "## Pushing our Docker image\n",
    "Now that we've authenticated our Docker client with our AWS account, it's time to push our Docker image to ECR. \n",
    "1. Tag the local Docker image with the following command. Make sure to fill in the variables without the brackets around them. \n",
    "```\n",
    "`docker tag [YOUR_DOCKER_IMAGE_NAME]:latest [AWS_ACCOUNT_ID].dkr.ecr.[AWS_REGION].amazonaws.com/[YOUR_ECR_NAME]:latest\n",
    "```\n",
    "2. Push the image to the ECR repository by doing \n",
    "```\n",
    "docker push AWS_ACCOUNT_ID].dkr.ecr.[AWS_REGION].amazonaws.com/[YOUR_ECR_NAME]:latest\n",
    "```\n",
    "\n",
    "This'll take some time as our Docker image is 1.5GB. "
   ]
  },
  {
   "cell_type": "markdown",
   "metadata": {},
   "source": [
    "## Create ECS Cluster \n",
    "We've pushed our image to an AWS ECR repository. Next, we'll need to actually create the ECS cluster that runs that image. \n",
    "\n",
    "1. Navigate to the AWS dashboard and select ECS (Elastic Container Service)\n",
    "2. Press on __Create Cluster__\n",
    "3. Select the __EC2 Linux + Networking__ template \n",
    "4. Give your clster a name. For this example, we'll be using 1 instance of a `t2-medium` with the default Linux 2 AMI. \n",
    "5. Click __Create__ at the bottom of the page. It'll take a couple minutes for your ECS cluster to begin. \n",
    "\n",
    "## Create a Task definition \n",
    "Let's use our ECR image in ECS. To do so, we'll create a task definition. \n",
    "1. Navigate back to the ECS dashboard and on the left tab, select __Task Definitions__\n",
    "2. Click on __Create new Task Definition__ \n",
    "3. Because we used the EC2 Linux template in our ECS cluster, we'll use the EC2 launch type. \n",
    "4. Give your task definition a name and allocate some memory for the task (we'll use 1gb). \n",
    "5. Select __Add Container__ and set __Container name__ to the name of your ECS instance. \n",
    "6. For __Image__, copy the URI of your ECR image. It should look something like\n",
    "7. For __Port mappings__, we'll want to map the host port 80 to container port 8080 (tcp). \n",
    "8. Click __Add__ to add the container and then __Create__ to create the task definition. \n",
    "\n",
    "## Running your task \n",
    "To run the task you just created, navigate to your task definition. \n",
    "1. Select __Run task__ underneath __Actions__ on the task page. \n",
    "2. On the \"Run Task\" page, select EC2 as the launch type. \n",
    "3. Under __Cluster__, select the ECS cluster you created. \n",
    "4. Scroll to the bottom of the page and click __Run Task__. \n",
    "\n",
    "## Making a request\n",
    "Now that you're task is running, you can make requests to your model! To get the public link for your container, navigate to your task and click into the details and you'll see the external link. \n",
    "\n",
    "If you've been following along with the model above, you can use the snippet below to make a sample request. \n",
    "\n",
    "```\n",
    "curl -H 'Content-Type: application/json' -d '{\"inputs\": [[0,0,0,0]]}' -X POST [CONTAINER_LINK]:80/v1/models/model:predict\n",
    "```"
   ]
  }
 ],
 "metadata": {
  "kernelspec": {
   "display_name": "Python 3.9.2 64-bit",
   "language": "python",
   "name": "python3"
  },
  "language_info": {
   "name": "python",
   "version": "3.9.2"
  },
  "orig_nbformat": 4,
  "vscode": {
   "interpreter": {
    "hash": "31f2aee4e71d21fbe5cf8b01ff0e069b9275f58929596ceb00d14d90e3e16cd6"
   }
  }
 },
 "nbformat": 4,
 "nbformat_minor": 2
}
