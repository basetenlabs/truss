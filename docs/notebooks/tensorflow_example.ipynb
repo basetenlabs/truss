{
  "cells": [
    {
      "cell_type": "markdown",
      "metadata": {
        "id": "Oo2hSnLtsitv"
      },
      "source": [
        "# Truss TensorFlow example\n",
        "\n",
        "<a href=\"https://colab.research.google.com/github/basetenlabs/truss/blob/main/docs/notebooks/tensorflow_example.ipynb\" target=\"_parent\"><img src=\"https://colab.research.google.com/assets/colab-badge.svg\" alt=\"Open In Colab\"/></a>"
      ]
    },
    {
      "cell_type": "code",
      "execution_count": null,
      "metadata": {
        "id": "H5AsI5JRsIwP"
      },
      "outputs": [],
      "source": [
        "%pip install --upgrade tensorflow truss requests\n",
        "# For help installing tensorflow, see https://www.tensorflow.org/install/pip\n"
      ]
    },
    {
      "cell_type": "code",
      "execution_count": null,
      "metadata": {
        "id": "5HNEDphMsusb"
      },
      "outputs": [],
      "source": [
        "import tensorflow as tf\n",
        "\n",
        "#Creates tensorflow model\n",
        "model = tf.keras.applications.ResNet50V2(\n",
        "    include_top=True,\n",
        "    weights=\"imagenet\",\n",
        "    classifier_activation=\"softmax\",\n",
        ")"
      ]
    },
    {
      "cell_type": "code",
      "execution_count": null,
      "metadata": {
        "id": "EQyp3E-Cs2Fq"
      },
      "outputs": [],
      "source": [
        "from truss import create\n",
        "\n",
        "# Create the Truss (serializing & packaging model)\n",
        "tr = create(model, target_directory=\"tensorflow_truss\")"
      ]
    },
    {
      "attachments": {},
      "cell_type": "markdown",
      "metadata": {},
      "source": [
        "# Pre- and post-processing functions\n",
        "\n",
        "In your newly created Truss, open `model/model.py` and add pre- and post-processing functions as follows.\n",
        "\n",
        "First, add the following imports at the top of the file:\n",
        "\n",
        "\n",
        "```python\n",
        "import requests\n",
        "import tempfile\n",
        "import tensorflow as tf\n",
        "from scipy.special import softmax\n",
        "```\n",
        "\n",
        "Then, update the pre-processing function to:\n",
        "\n",
        "```python\n",
        "def preprocess(self, model_input: Any) -> Any:\n",
        "    \"\"\"Preprocess step for ResNet\"\"\"\n",
        "    request = requests.get(model_input)\n",
        "    with tempfile.NamedTemporaryFile() as f:\n",
        "        f.write(request.content)\n",
        "        f.seek(0)\n",
        "        input_image = tf.image.decode_png(tf.io.read_file(f.name))\n",
        "    preprocessed_image = tf.keras.applications.resnet_v2.preprocess_input(\n",
        "        tf.image.resize([input_image], (224, 224))\n",
        "    )\n",
        "    return np.array(preprocessed_image)\n",
        "```\n",
        "\n",
        "Finally, update the post-processing function to:\n",
        "\n",
        "```python\n",
        "def postprocess(self, model_output: Any) -> Any:\n",
        "    \"\"\"Post process step for ResNet\"\"\"\n",
        "    class_predictions = model_output[\"predictions\"][0]\n",
        "    LABELS = requests.get(\n",
        "        \"https://storage.googleapis.com/download.tensorflow.org/data/ImageNetLabels.txt\"\n",
        "    ).text.split(\"\\n\")\n",
        "    class_probabilities = softmax(class_predictions)\n",
        "    top_probability_indices = class_probabilities.argsort()[::-1][:5].tolist()\n",
        "    return {\n",
        "        LABELS[index]: 100 * class_probabilities[index].round(3)\n",
        "        for index in top_probability_indices\n",
        "    }\n",
        "```\n",
        "\n",
        "Save the file, and re-load the truss handle (`tr`) in the next cell to access the updated Truss."
      ]
    },
    {
      "cell_type": "code",
      "execution_count": null,
      "metadata": {
        "id": "SfMjOpdHvQ8f"
      },
      "outputs": [],
      "source": [
        "from truss import load\n",
        "\n",
        "tr = load(\"tensorflow_truss\")\n",
        "tr.predict(\"https://github.com/pytorch/hub/raw/master/images/dog.jpg\")"
      ]
    }
  ],
  "metadata": {
    "colab": {
      "collapsed_sections": [],
      "name": "tensorflow_example.ipynb",
      "provenance": []
    },
    "kernelspec": {
      "display_name": "truss-qbHCcytf-py3.9",
      "language": "python",
      "name": "python3"
    },
    "language_info": {
      "codemirror_mode": {
        "name": "ipython",
        "version": 3
      },
      "file_extension": ".py",
      "mimetype": "text/x-python",
      "name": "python",
      "nbconvert_exporter": "python",
      "pygments_lexer": "ipython3",
      "version": "3.9.16"
    },
    "vscode": {
      "interpreter": {
        "hash": "71eaf67bb821e55ec2e9ffe63f35d72d7631d0e358c20043383b5ebba2b8daf8"
      }
    }
  },
  "nbformat": 4,
  "nbformat_minor": 0
}
