{
  "cells": [
    {
      "cell_type": "markdown",
      "metadata": {
        "id": "Oo2hSnLtsitv"
      },
      "source": [
        "# Truss TensorFlow example\n",
        "\n",
        "<a href=\"https://colab.research.google.com/github/basetenlabs/truss/blob/main/docs/notebooks/tensorflow_example.ipynb\" target=\"_parent\"><img src=\"https://colab.research.google.com/assets/colab-badge.svg\" alt=\"Open In Colab\"/></a>"
      ]
    },
    {
      "cell_type": "code",
      "execution_count": null,
      "metadata": {
        "id": "H5AsI5JRsIwP"
      },
      "outputs": [],
      "source": [
        "%pip install --upgrade tensorflow truss requests\n",
        "# For help installing tensorflow, see https://www.tensorflow.org/install/pip\n"
      ]
    },
    {
      "cell_type": "code",
      "execution_count": null,
      "metadata": {
        "id": "5HNEDphMsusb"
      },
      "outputs": [],
      "source": [
        "import tensorflow as tf\n",
        "\n",
        "#Creates tensorflow model\n",
        "model = tf.keras.applications.ResNet50V2(\n",
        "    include_top=True,\n",
        "    weights=\"imagenet\",\n",
        "    classifier_activation=\"softmax\",\n",
        ")"
      ]
    },
    {
      "cell_type": "code",
      "execution_count": null,
      "metadata": {
        "id": "EQyp3E-Cs2Fq"
      },
      "outputs": [],
      "source": [
        "from truss import mk_truss\n",
        "\n",
        "# Create the Truss (serializing & packaging model)\n",
        "tr = mk_truss(model, target_directory=\"tensorflow_truss\")"
      ]
    },
    {
      "cell_type": "code",
      "execution_count": null,
      "metadata": {
        "id": "_FL7iTnwAm2Z"
      },
      "outputs": [],
      "source": [
        "#Preprocess and Postprocess Functions\n",
        "import requests\n",
        "import tempfile\n",
        "import numpy as np\n",
        "\n",
        "from scipy.special import softmax\n",
        "\n",
        "def preprocess(url):\n",
        "    \"\"\"Preprocess step for ResNet\"\"\"\n",
        "    request = requests.get(url)\n",
        "    with tempfile.NamedTemporaryFile() as f:\n",
        "        f.write(request.content)\n",
        "        f.seek(0)\n",
        "        input_image = tf.image.decode_png(tf.io.read_file(f.name))\n",
        "    preprocessed_image = tf.keras.applications.resnet_v2.preprocess_input(\n",
        "        tf.image.resize([input_image], (224, 224))\n",
        "    )\n",
        "    return np.array(preprocessed_image)\n",
        "\n",
        "def postprocess(predictions, k=5):\n",
        "    \"\"\"Post process step for ResNet\"\"\"\n",
        "    class_predictions = predictions[0]\n",
        "    LABELS = requests.get(\n",
        "        'https://storage.googleapis.com/download.tensorflow.org/data/ImageNetLabels.txt'\n",
        "    ).text.split('\\n')\n",
        "    class_probabilities = softmax(class_predictions)\n",
        "    top_probability_indices = class_probabilities.argsort()[::-1][:k].tolist()\n",
        "    return {LABELS[index]: 100 * class_probabilities[index].round(3) for index in top_probability_indices}"
      ]
    },
    {
      "cell_type": "code",
      "execution_count": null,
      "metadata": {
        "id": "SfMjOpdHvQ8f"
      },
      "outputs": [],
      "source": [
        "image = preprocess(\"https://github.com/pytorch/hub/raw/master/images/dog.jpg\")\n",
        "results = tr.server_predict({\"inputs\": image})\n",
        "postprocess(results[\"predictions\"])"
      ]
    }
  ],
  "metadata": {
    "colab": {
      "collapsed_sections": [],
      "name": "tensorflow_example.ipynb",
      "provenance": []
    },
    "kernelspec": {
      "display_name": "Python 3",
      "name": "python3"
    },
    "language_info": {
      "name": "python"
    }
  },
  "nbformat": 4,
  "nbformat_minor": 0
}
