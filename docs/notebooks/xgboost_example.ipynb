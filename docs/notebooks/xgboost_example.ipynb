{
  "nbformat": 4,
  "nbformat_minor": 0,
  "metadata": {
    "colab": {
      "name": "xgboost_example.ipynb",
      "provenance": [],
      "collapsed_sections": []
    },
    "kernelspec": {
      "name": "python3",
      "display_name": "Python 3"
    },
    "language_info": {
      "name": "python"
    }
  },
  "cells": [
    {
      "cell_type": "markdown",
      "source": [
        "# Truss XGBoost example\n",
        "\n",
        "<a href=\"https://colab.research.google.com/github/basetenlabs/truss/blob/main/docs/notebooks/xgboost_example.ipynb\" target=\"_parent\"><img src=\"https://colab.research.google.com/assets/colab-badge.svg\" alt=\"Open In Colab\"/></a>"
      ],
      "metadata": {
        "id": "sZfaHeHCFqG7"
      }
    },
    {
      "cell_type": "code",
      "execution_count": null,
      "metadata": {
        "id": "7F4L_q_fFfIU"
      },
      "outputs": [],
      "source": [
        "%pip install xgboost==1.6.1 truss"
      ]
    },
    {
      "cell_type": "code",
      "source": [
        "import xgboost as xgb\n",
        "from sklearn.datasets import make_classification\n",
        "from sklearn.model_selection import train_test_split\n",
        "\n",
        "def create_data():\n",
        "    X, y = make_classification(n_samples=100,\n",
        "                           n_informative=2,\n",
        "                           n_classes=2,\n",
        "                           n_features=6)\n",
        "    X_train, X_test, y_train, y_test = train_test_split(X, y, test_size=0.25)\n",
        "    train = xgb.DMatrix(X_train, y_train)\n",
        "    test = xgb.DMatrix(X_test, y_test)\n",
        "    return train, test\n",
        "\n",
        "train, test = create_data()\n",
        "params = {\n",
        "    \"learning_rate\": 0.01,\n",
        "    \"max_depth\": 3\n",
        "}\n",
        "# training, we set the early stopping rounds parameter\n",
        "model = xgb.train(params,\n",
        "        train, evals=[(train, \"train\"), (test, \"validation\")],\n",
        "        num_boost_round=100, early_stopping_rounds=20)"
      ],
      "metadata": {
        "id": "sFzSSnEyGCws"
      },
      "execution_count": null,
      "outputs": []
    },
    {
      "cell_type": "code",
      "source": [
        "from truss import mk_truss\n",
        "\n",
        "tr = mk_truss(model, target_directory=\"xgboost_truss\")"
      ],
      "metadata": {
        "id": "iJd__XvCGcUx"
      },
      "execution_count": null,
      "outputs": []
    },
    {
      "cell_type": "code",
      "source": [
        "tr.server_predict({\"inputs\": [[0, 0, 0, 0, 0, 0]]})"
      ],
      "metadata": {
        "id": "DrR1c3I7HSLc"
      },
      "execution_count": null,
      "outputs": []
    }
  ]
}
