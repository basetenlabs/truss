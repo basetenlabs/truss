{
  "cells": [
    {
      "cell_type": "markdown",
      "metadata": {
        "id": "sZfaHeHCFqG7"
      },
      "source": [
        "# Truss XGBoost example\n",
        "\n",
        "<a href=\"https://colab.research.google.com/github/basetenlabs/truss/blob/main/docs/notebooks/xgboost_example.ipynb\" target=\"_parent\"><img src=\"https://colab.research.google.com/assets/colab-badge.svg\" alt=\"Open In Colab\"/></a>"
      ]
    },
    {
      "cell_type": "code",
      "execution_count": null,
      "metadata": {
        "id": "7F4L_q_fFfIU"
      },
      "outputs": [],
      "source": [
        "%pip install --upgrade xgboost truss"
      ]
    },
    {
      "cell_type": "code",
      "execution_count": null,
      "metadata": {
        "id": "sFzSSnEyGCws"
      },
      "outputs": [],
      "source": [
        "import xgboost as xgb\n",
        "from sklearn.datasets import make_classification\n",
        "from sklearn.model_selection import train_test_split\n",
        "\n",
        "def create_data():\n",
        "    X, y = make_classification(n_samples=100,\n",
        "                           n_informative=2,\n",
        "                           n_classes=2,\n",
        "                           n_features=6)\n",
        "    X_train, X_test, y_train, y_test = train_test_split(X, y, test_size=0.25)\n",
        "    train = xgb.DMatrix(X_train, y_train)\n",
        "    test = xgb.DMatrix(X_test, y_test)\n",
        "    return train, test\n",
        "\n",
        "train, test = create_data()\n",
        "params = {\n",
        "    \"learning_rate\": 0.01,\n",
        "    \"max_depth\": 3\n",
        "}\n",
        "# training, we set the early stopping rounds parameter\n",
        "model = xgb.train(params,\n",
        "        train, evals=[(train, \"train\"), (test, \"validation\")],\n",
        "        num_boost_round=100, early_stopping_rounds=20)"
      ]
    },
    {
      "cell_type": "code",
      "execution_count": null,
      "metadata": {
        "id": "iJd__XvCGcUx"
      },
      "outputs": [],
      "source": [
        "from truss import mk_truss\n",
        "\n",
        "tr = mk_truss(model, target_directory=\"xgboost_truss\")"
      ]
    },
    {
      "cell_type": "code",
      "execution_count": null,
      "metadata": {
        "id": "DrR1c3I7HSLc"
      },
      "outputs": [],
      "source": [
        "tr.server_predict({\"inputs\": [[0, 0, 0, 0, 0, 0]]})"
      ]
    }
  ],
  "metadata": {
    "colab": {
      "collapsed_sections": [],
      "name": "xgboost_example.ipynb",
      "provenance": []
    },
    "kernelspec": {
      "display_name": "Python 3",
      "name": "python3"
    },
    "language_info": {
      "name": "python"
    }
  },
  "nbformat": 4,
  "nbformat_minor": 0
}
