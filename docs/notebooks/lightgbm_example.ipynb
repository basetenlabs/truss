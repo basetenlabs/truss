{
  "cells": [
    {
      "cell_type": "markdown",
      "metadata": {
        "id": "deLiVrrGLcip"
      },
      "source": [
        "# Truss LightGBM example\n",
        "\n",
        "<a href=\"https://colab.research.google.com/github/basetenlabs/truss/blob/main/docs/notebooks/lightgbm_example.ipynb\" target=\"_parent\"><img src=\"https://colab.research.google.com/assets/colab-badge.svg\" alt=\"Open In Colab\"/></a>"
      ]
    },
    {
      "cell_type": "code",
      "execution_count": null,
      "metadata": {
        "id": "EFsGqmU8JEoi"
      },
      "outputs": [],
      "source": [
        "%pip install --upgrade lightgbm truss"
      ]
    },
    {
      "cell_type": "code",
      "execution_count": null,
      "metadata": {
        "id": "GnTg98WSLnff"
      },
      "outputs": [],
      "source": [
        "import lightgbm as lgb\n",
        "from sklearn.datasets import make_classification\n",
        "from sklearn.model_selection import train_test_split\n",
        "\n",
        "def create_data():\n",
        "    X, y = make_classification(n_samples=100,\n",
        "                           n_informative=2,\n",
        "                           n_classes=2,\n",
        "                           n_features=6)\n",
        "    X_train, X_test, y_train, y_test = train_test_split(X, y, test_size=0.25)\n",
        "    train = lgb.Dataset(X_train, y_train)\n",
        "    test = lgb.Dataset(X_test, y_test)\n",
        "    return train, test\n",
        "\n",
        "train, test = create_data()\n",
        "params = {\n",
        "        'boosting_type': 'gbdt',\n",
        "        'objective': 'softmax',\n",
        "        'metric': 'multi_logloss',\n",
        "        'num_leaves': 31,\n",
        "        'num_classes': 2,\n",
        "        'learning_rate': 0.05,\n",
        "        'feature_fraction': 0.9,\n",
        "        'bagging_fraction': 0.8,\n",
        "        'bagging_freq': 5,\n",
        "        'verbose': 0\n",
        "}\n",
        "model = lgb.train(params=params, train_set=train, valid_sets=test)"
      ]
    },
    {
      "cell_type": "code",
      "execution_count": null,
      "metadata": {
        "id": "qgorMt1-L3Ft"
      },
      "outputs": [],
      "source": [
        "from truss import create\n",
        "\n",
        "tr = create(model, target_directory=\"lightgbm_truss\")"
      ]
    },
    {
      "cell_type": "code",
      "execution_count": null,
      "metadata": {
        "id": "TKJ_WfofL5u7"
      },
      "outputs": [],
      "source": [
        "tr.predict({\"inputs\": [[0, 0, 0, 0, 0, 0]]})"
      ]
    }
  ],
  "metadata": {
    "colab": {
      "collapsed_sections": [],
      "name": "lightgbm_example.ipynb",
      "provenance": []
    },
    "kernelspec": {
      "display_name": "Python 3",
      "name": "python3"
    },
    "language_info": {
      "name": "python"
    }
  },
  "nbformat": 4,
  "nbformat_minor": 0
}
