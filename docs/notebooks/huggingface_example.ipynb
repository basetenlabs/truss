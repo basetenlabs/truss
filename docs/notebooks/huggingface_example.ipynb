{
  "cells": [
    {
      "attachments": {},
      "cell_type": "markdown",
      "metadata": {
        "id": "ndlSFJb7wCAU"
      },
      "source": [
        "# Truss HuggingFace example\n",
        "\n",
        "<a href=\"https://colab.research.google.com/github/basetenlabs/truss/blob/main/docs/notebooks/sklearn_example.ipynb\" target=\"_parent\"><img src=\"https://colab.research.google.com/assets/colab-badge.svg\" alt=\"Open In Colab\"/></a>"
      ]
    },
    {
      "cell_type": "code",
      "execution_count": null,
      "metadata": {
        "id": "UYqwaTZjv88A"
      },
      "outputs": [],
      "source": [
        "%pip install --upgrade transformers truss"
      ]
    },
    {
      "cell_type": "code",
      "execution_count": null,
      "metadata": {
        "id": "-3uOE4-dwG2J"
      },
      "outputs": [],
      "source": [
        "from transformers import pipeline\n",
        "\n",
        "# Bring in model from huggingface\n",
        "model = pipeline('fill-mask', model='bert-base-uncased')"
      ]
    },
    {
      "cell_type": "code",
      "execution_count": null,
      "metadata": {
        "id": "xCbNKKW7wMNp"
      },
      "outputs": [],
      "source": [
        "from truss import create\n",
        "\n",
        "tr = create(model, target_directory=\"huggingface_truss\")"
      ]
    },
    {
      "cell_type": "code",
      "execution_count": null,
      "metadata": {
        "id": "fd2sqoeawX0C"
      },
      "outputs": [],
      "source": [
        "# Serve a prediction from the model\n",
        "tr.predict(\"Donatello is a teenage mutant [MASK] turtle\")"
      ]
    }
  ],
  "metadata": {
    "colab": {
      "name": "huggingface_truss.ipynb",
      "provenance": []
    },
    "kernelspec": {
      "display_name": "truss-qbHCcytf-py3.9",
      "language": "python",
      "name": "python3"
    },
    "language_info": {
      "codemirror_mode": {
        "name": "ipython",
        "version": 3
      },
      "file_extension": ".py",
      "mimetype": "text/x-python",
      "name": "python",
      "nbconvert_exporter": "python",
      "pygments_lexer": "ipython3",
      "version": "3.9.16"
    },
    "vscode": {
      "interpreter": {
        "hash": "71eaf67bb821e55ec2e9ffe63f35d72d7631d0e358c20043383b5ebba2b8daf8"
      }
    }
  },
  "nbformat": 4,
  "nbformat_minor": 0
}
