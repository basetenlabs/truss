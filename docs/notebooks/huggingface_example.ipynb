{
  "cells": [
    {
      "attachments": {},
      "cell_type": "markdown",
      "metadata": {
        "id": "ndlSFJb7wCAU"
      },
      "source": [
        "# Truss HuggingFace example\n",
        "\n",
        "<a href=\"https://colab.research.google.com/github/basetenlabs/truss/blob/main/docs/notebooks/sklearn_example.ipynb\" target=\"_parent\"><img src=\"https://colab.research.google.com/assets/colab-badge.svg\" alt=\"Open In Colab\"/></a>"
      ]
    },
    {
      "cell_type": "code",
      "execution_count": null,
      "metadata": {
        "id": "UYqwaTZjv88A"
      },
      "outputs": [],
      "source": [
        "%pip install --upgrade transformers truss"
      ]
    },
    {
      "cell_type": "code",
      "execution_count": null,
      "metadata": {
        "id": "-3uOE4-dwG2J"
      },
      "outputs": [],
      "source": [
        "from transformers import pipeline\n",
        "\n",
        "# Bring in model from huggingface\n",
        "model = pipeline('fill-mask', model='bert-base-uncased')"
      ]
    },
    {
      "cell_type": "code",
      "execution_count": null,
      "metadata": {
        "id": "xCbNKKW7wMNp"
      },
      "outputs": [],
      "source": [
        "from truss import create\n",
        "\n",
        "tr = create(model, target_directory=\"huggingface_truss\")"
      ]
    },
    {
      "cell_type": "code",
      "execution_count": null,
      "metadata": {
        "id": "fd2sqoeawX0C"
      },
      "outputs": [],
      "source": [
        "# Serve a prediction from the model\n",
        "tr.predict({\"inputs\": [\"Donatello is a teenage mutant [MASK] turtle\"]})"
      ]
    }
  ],
  "metadata": {
    "colab": {
      "name": "huggingface_truss.ipynb",
      "provenance": []
    },
    "kernelspec": {
      "display_name": "Python 3",
      "language": "python",
      "name": "python3"
    },
    "language_info": {
      "name": "python",
      "version": "3.8.9 (default, Apr 13 2022, 08:48:06) \n[Clang 13.1.6 (clang-1316.0.21.2.5)]"
    },
    "vscode": {
      "interpreter": {
        "hash": "31f2aee4e71d21fbe5cf8b01ff0e069b9275f58929596ceb00d14d90e3e16cd6"
      }
    }
  },
  "nbformat": 4,
  "nbformat_minor": 0
}
