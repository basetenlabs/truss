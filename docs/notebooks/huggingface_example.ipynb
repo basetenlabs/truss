{
  "cells": [
    {
      "cell_type": "markdown",
      "metadata": {
        "id": "ndlSFJb7wCAU"
      },
      "source": [
        "# Truss TensorFlow example\n",
        "\n",
        "<a href=\"https://colab.research.google.com/github/basetenlabs/truss/blob/main/docs/notebooks/sklearn_example.ipynb\" target=\"_parent\"><img src=\"https://colab.research.google.com/assets/colab-badge.svg\" alt=\"Open In Colab\"/></a>"
      ]
    },
    {
      "cell_type": "code",
      "execution_count": null,
      "metadata": {
        "id": "UYqwaTZjv88A"
      },
      "outputs": [],
      "source": [
        "%pip install --upgrade transformers truss"
      ]
    },
    {
      "cell_type": "code",
      "execution_count": null,
      "metadata": {
        "id": "-3uOE4-dwG2J"
      },
      "outputs": [],
      "source": [
        "from transformers import pipeline\n",
        "\n",
        "# Bring in model from huggingface\n",
        "model = pipeline('fill-mask', model='bert-base-uncased')"
      ]
    },
    {
      "cell_type": "code",
      "execution_count": null,
      "metadata": {
        "id": "xCbNKKW7wMNp"
      },
      "outputs": [],
      "source": [
        "from truss import mk_truss\n",
        "\n",
        "tr = mk_truss(model, target_directory=\"huggingface_truss\")"
      ]
    },
    {
      "cell_type": "code",
      "execution_count": null,
      "metadata": {
        "id": "fd2sqoeawX0C"
      },
      "outputs": [],
      "source": [
        "# Serve a prediction from the model\n",
        "tr.server_predict({\"inputs\": [\"Donatello is a teenage mutant [MASK] turtle\"]})"
      ]
    }
  ],
  "metadata": {
    "colab": {
      "name": "huggingface_truss.ipynb",
      "provenance": []
    },
    "kernelspec": {
      "display_name": "Python 3",
      "name": "python3"
    },
    "language_info": {
      "name": "python"
    }
  },
  "nbformat": 4,
  "nbformat_minor": 0
}
