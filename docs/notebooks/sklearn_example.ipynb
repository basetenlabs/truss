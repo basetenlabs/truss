{
  "cells": [
    {
      "cell_type": "markdown",
      "metadata": {},
      "source": [
        "# Truss sklearn example\n",
        "\n",
        "<a href=\"https://colab.research.google.com/github/basetenlabs/truss/blob/main/docs/notebooks/sklearn_example.ipynb\" target=\"_parent\"><img src=\"https://colab.research.google.com/assets/colab-badge.svg\" alt=\"Open In Colab\"/></a>"
      ]
    },
    {
      "cell_type": "code",
      "execution_count": null,
      "metadata": {
        "id": "C0IUBTZcWKKz"
      },
      "outputs": [],
      "source": [
        "%pip install --upgrade truss scikit-learn"
      ]
    },
    {
      "cell_type": "code",
      "execution_count": null,
      "metadata": {
        "id": "gdq3i8LCXcdo"
      },
      "outputs": [],
      "source": [
        "import truss\n",
        "from sklearn.ensemble import RandomForestClassifier\n",
        "from sklearn.datasets import load_iris"
      ]
    },
    {
      "cell_type": "code",
      "execution_count": null,
      "metadata": {
        "id": "snv_zBtdXeVb"
      },
      "outputs": [],
      "source": [
        "# Load the iris data set\n",
        "iris = load_iris()\n",
        "data_x = iris['data']\n",
        "data_y = iris['target']\n",
        "\n",
        "# Train the model\n",
        "rfc = RandomForestClassifier()\n",
        "rfc.fit(data_x, data_y)"
      ]
    },
    {
      "cell_type": "code",
      "execution_count": null,
      "metadata": {
        "id": "RakEOIIkX85t"
      },
      "outputs": [],
      "source": [
        "# Create the Truss (serializing & packaging model)\n",
        "tr = truss.create(rfc, \"iris-rfc\")"
      ]
    },
    {
      "cell_type": "code",
      "execution_count": null,
      "metadata": {
        "id": "fih4grOqqV7p"
      },
      "outputs": [],
      "source": [
        "# Serve a prediction from the model\n",
        "tr.predict({\"inputs\": [[0, 0, 0, 0]]})"
      ]
    }
  ],
  "metadata": {
    "colab": {
      "name": "Truss Sklearn",
      "provenance": []
    },
    "interpreter": {
      "hash": "31f2aee4e71d21fbe5cf8b01ff0e069b9275f58929596ceb00d14d90e3e16cd6"
    },
    "kernelspec": {
      "display_name": "Python 3.9.2 64-bit",
      "language": "python",
      "name": "python3"
    },
    "language_info": {
      "name": "python",
      "version": "3.8.9"
    }
  },
  "nbformat": 4,
  "nbformat_minor": 0
}
