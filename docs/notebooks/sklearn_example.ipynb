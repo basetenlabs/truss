{
  "cells": [
    {
      "cell_type": "markdown",
      "metadata": {},
      "source": [
        "# Truss sklearn example\n",
        "\n",
        "<a href=\"https://colab.research.google.com/github/basetenlabs/truss/blob/main/docs/notebooks/sklearn_example.ipynb\" target=\"_parent\"><img src=\"https://colab.research.google.com/assets/colab-badge.svg\" alt=\"Open In Colab\"/></a>"
      ]
    },
    {
      "cell_type": "code",
      "execution_count": null,
      "metadata": {
        "id": "C0IUBTZcWKKz"
      },
      "outputs": [],
      "source": [
        "%pip install --upgrade truss scikit-learn"
      ]
    },
    {
      "cell_type": "code",
      "execution_count": null,
      "metadata": {
        "id": "gdq3i8LCXcdo"
      },
      "outputs": [],
      "source": [
        "import truss\n",
        "from sklearn.ensemble import RandomForestClassifier\n",
        "from sklearn.datasets import load_iris"
      ]
    },
    {
      "cell_type": "code",
      "execution_count": null,
      "metadata": {
        "id": "snv_zBtdXeVb"
      },
      "outputs": [],
      "source": [
        "# Load the iris data set\n",
        "iris = load_iris()\n",
        "data_x = iris['data']\n",
        "data_y = iris['target']\n",
        "\n",
        "# Train the model\n",
        "rfc = RandomForestClassifier()\n",
        "rfc.fit(data_x, data_y)"
      ]
    },
    {
      "cell_type": "code",
      "execution_count": null,
      "metadata": {
        "id": "RakEOIIkX85t"
      },
      "outputs": [],
      "source": [
        "# Create the Truss (serializing & packaging model)\n",
        "tr = truss.create(rfc, \"iris-rfc\")"
      ]
    },
    {
      "cell_type": "code",
      "execution_count": null,
      "metadata": {
        "id": "fih4grOqqV7p"
      },
      "outputs": [],
      "source": [
        "# Serve a prediction from the model\n",
        "tr.predict([[0, 0, 0, 0]])"
      ]
    }
  ],
  "metadata": {
    "colab": {
      "name": "Truss Sklearn",
      "provenance": []
    },
    "kernelspec": {
      "display_name": "truss-qbHCcytf-py3.9",
      "language": "python",
      "name": "python3"
    },
    "language_info": {
      "codemirror_mode": {
        "name": "ipython",
        "version": 3
      },
      "file_extension": ".py",
      "mimetype": "text/x-python",
      "name": "python",
      "nbconvert_exporter": "python",
      "pygments_lexer": "ipython3",
      "version": "3.9.16"
    },
    "vscode": {
      "interpreter": {
        "hash": "71eaf67bb821e55ec2e9ffe63f35d72d7631d0e358c20043383b5ebba2b8daf8"
      }
    }
  },
  "nbformat": 4,
  "nbformat_minor": 0
}
