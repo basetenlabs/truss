{
  "cells": [
    {
      "cell_type": "markdown",
      "metadata": {
        "id": "pgaEKl4VGOIl"
      },
      "source": [
        "# Truss MLflow example\n",
        "\n",
        "<a href=\"https://colab.research.google.com/github/basetenlabs/truss/blob/main/docs/notebooks/mlflow_example.ipynb\" target=\"_parent\"><img src=\"https://colab.research.google.com/assets/colab-badge.svg\" alt=\"Open In Colab\"/></a>"
      ]
    },
    {
      "cell_type": "code",
      "execution_count": null,
      "metadata": {
        "id": "C69KzNWOGMVO"
      },
      "outputs": [],
      "source": [
        "%pip install --upgrade pip\n",
        "%pip install --upgrade mlflow truss"
      ]
    },
    {
      "cell_type": "code",
      "execution_count": null,
      "metadata": {
        "id": "0h6v6-LFF5BP"
      },
      "outputs": [],
      "source": [
        "import mlflow\n",
        "from sklearn.linear_model import LogisticRegression\n",
        "import numpy as np"
      ]
    },
    {
      "cell_type": "code",
      "execution_count": null,
      "metadata": {
        "id": "nXuhHxzPGG40"
      },
      "outputs": [],
      "source": [
        "# Create simple MLflow model\n",
        "\n",
        "with mlflow.start_run():\n",
        "    X = np.array([-2, -1, 0, 1, 2, 1]).reshape(-1, 1)\n",
        "    y = np.array([0, 0, 1, 1, 1, 0])\n",
        "    lr = LogisticRegression()\n",
        "    lr.fit(X, y)\n",
        "    model_info = mlflow.sklearn.log_model(sk_model=lr, artifact_path=\"model\")\n",
        "    MODEL_URI = model_info.model_uri"
      ]
    },
    {
      "cell_type": "code",
      "execution_count": null,
      "metadata": {
        "id": "yxbARoChGsqo"
      },
      "outputs": [],
      "source": [
        "# Invoke the MLflow model\n",
        "\n",
        "sklearn_pyfunc = mlflow.pyfunc.load_model(model_uri=MODEL_URI)\n",
        "data = np.array([-4, 1, 0, 10, -2, 1]).reshape(-1, 1)\n",
        "predictions = sklearn_pyfunc.predict(data)\n",
        "print(predictions)"
      ]
    },
    {
      "cell_type": "code",
      "execution_count": null,
      "metadata": {
        "id": "xIO5y_COGwLO"
      },
      "outputs": [],
      "source": [
        "# Package the MLflow model as a Truss\n",
        "\n",
        "import os\n",
        "import truss\n",
        "\n",
        "model = mlflow.pyfunc.load_model(MODEL_URI)\n",
        "tr = truss.create(model, target_directory=\"./mlflow_truss\")"
      ]
    },
    {
      "cell_type": "code",
      "execution_count": null,
      "metadata": {
        "id": "yKuoGNxMG-WK"
      },
      "outputs": [],
      "source": [
        "# Invoke the MLflow model\n",
        "\n",
        "data = np.array([-4, 1, 0, 10, -2, 1]).reshape(-1, 1)\n",
        "predictions = tr.predict({\"inputs\": data})\n",
        "print(predictions)"
      ]
    }
  ],
  "metadata": {
    "colab": {
      "provenance": []
    },
    "kernelspec": {
      "display_name": "Python 3.8.9 64-bit",
      "language": "python",
      "name": "python3"
    },
    "language_info": {
      "name": "python",
      "version": "3.8.9"
    },
    "vscode": {
      "interpreter": {
        "hash": "31f2aee4e71d21fbe5cf8b01ff0e069b9275f58929596ceb00d14d90e3e16cd6"
      }
    }
  },
  "nbformat": 4,
  "nbformat_minor": 0
}
