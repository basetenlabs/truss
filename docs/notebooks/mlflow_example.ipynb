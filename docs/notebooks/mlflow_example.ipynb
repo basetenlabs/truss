{
  "cells": [
    {
      "cell_type": "markdown",
      "metadata": {
        "id": "pgaEKl4VGOIl"
      },
      "source": [
        "# Truss MLflow example\n",
        "\n",
        "<a href=\"https://colab.research.google.com/github/basetenlabs/truss/blob/main/docs/notebooks/mlflow_example.ipynb\" target=\"_parent\"><img src=\"https://colab.research.google.com/assets/colab-badge.svg\" alt=\"Open In Colab\"/></a>"
      ]
    },
    {
      "cell_type": "code",
      "execution_count": null,
      "metadata": {
        "id": "C69KzNWOGMVO"
      },
      "outputs": [],
      "source": [
        "%pip install --upgrade pip\n",
        "%pip install --upgrade mlflow truss"
      ]
    },
    {
      "cell_type": "code",
      "execution_count": null,
      "metadata": {
        "id": "0h6v6-LFF5BP"
      },
      "outputs": [],
      "source": [
        "import mlflow\n",
        "from sklearn.linear_model import LogisticRegression\n",
        "import numpy as np"
      ]
    },
    {
      "cell_type": "code",
      "execution_count": null,
      "metadata": {
        "id": "nXuhHxzPGG40"
      },
      "outputs": [],
      "source": [
        "# Create simple MLflow model\n",
        "\n",
        "with mlflow.start_run():\n",
        "    X = np.array([-2, -1, 0, 1, 2, 1]).reshape(-1, 1)\n",
        "    y = np.array([0, 0, 1, 1, 1, 0])\n",
        "    lr = LogisticRegression()\n",
        "    lr.fit(X, y)\n",
        "    model_info = mlflow.sklearn.log_model(sk_model=lr, artifact_path=\"model\")\n",
        "    MODEL_URI = model_info.model_uri"
      ]
    },
    {
      "cell_type": "code",
      "execution_count": null,
      "metadata": {
        "id": "yxbARoChGsqo"
      },
      "outputs": [],
      "source": [
        "# Invoke the MLflow model\n",
        "\n",
        "sklearn_pyfunc = mlflow.pyfunc.load_model(model_uri=MODEL_URI)\n",
        "data = np.array([-4, 1, 0, 10, -2, 1]).reshape(-1, 1)\n",
        "predictions = sklearn_pyfunc.predict(data)\n",
        "print(predictions)"
      ]
    },
    {
      "cell_type": "code",
      "execution_count": null,
      "metadata": {
        "id": "xIO5y_COGwLO"
      },
      "outputs": [],
      "source": [
        "# Package the MLflow model as a Truss\n",
        "\n",
        "import os\n",
        "import truss\n",
        "\n",
        "model = mlflow.pyfunc.load_model(MODEL_URI)\n",
        "tr = truss.create(model, target_directory=\"./mlflow_truss\")"
      ]
    },
    {
      "cell_type": "code",
      "execution_count": null,
      "metadata": {
        "id": "yKuoGNxMG-WK"
      },
      "outputs": [],
      "source": [
        "# Invoke the MLflow model\n",
        "\n",
        "data = np.array([-4, 1, 0, 10, -2, 1]).reshape(-1, 1)\n",
        "tr.predict(data)"
      ]
    }
  ],
  "metadata": {
    "colab": {
      "provenance": []
    },
    "kernelspec": {
      "display_name": "truss-qbHCcytf-py3.9",
      "language": "python",
      "name": "python3"
    },
    "language_info": {
      "codemirror_mode": {
        "name": "ipython",
        "version": 3
      },
      "file_extension": ".py",
      "mimetype": "text/x-python",
      "name": "python",
      "nbconvert_exporter": "python",
      "pygments_lexer": "ipython3",
      "version": "3.9.16"
    },
    "vscode": {
      "interpreter": {
        "hash": "71eaf67bb821e55ec2e9ffe63f35d72d7631d0e358c20043383b5ebba2b8daf8"
      }
    }
  },
  "nbformat": 4,
  "nbformat_minor": 0
}
