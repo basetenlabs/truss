{
  "nbformat": 4,
  "nbformat_minor": 0,
  "metadata": {
    "colab": {
      "provenance": []
    },
    "kernelspec": {
      "name": "python3",
      "display_name": "Python 3"
    },
    "language_info": {
      "name": "python"
    }
  },
  "cells": [
    {
      "cell_type": "markdown",
      "source": [
        "# Truss MLFlow example\n",
        "\n",
        "<a href=\"https://colab.research.google.com/github/basetenlabs/truss/blob/main/docs/notebooks/mlflow_example.ipynb\" target=\"_parent\"><img src=\"https://colab.research.google.com/assets/colab-badge.svg\" alt=\"Open In Colab\"/></a>"
      ],
      "metadata": {
        "id": "pgaEKl4VGOIl"
      }
    },
    {
      "cell_type": "code",
      "source": [
        "%pip install --upgrade pip\n",
        "%pip install --upgrade mlflow truss"
      ],
      "metadata": {
        "id": "C69KzNWOGMVO"
      },
      "execution_count": null,
      "outputs": []
    },
    {
      "cell_type": "code",
      "execution_count": null,
      "metadata": {
        "id": "0h6v6-LFF5BP"
      },
      "outputs": [],
      "source": [
        "import mlflow\n",
        "from sklearn.linear_model import LogisticRegression\n",
        "import numpy as np"
      ]
    },
    {
      "cell_type": "code",
      "source": [
        "# Create simple MLFlow model\n",
        "\n",
        "with mlflow.start_run():\n",
        "    X = np.array([-2, -1, 0, 1, 2, 1]).reshape(-1, 1)\n",
        "    y = np.array([0, 0, 1, 1, 1, 0])\n",
        "    lr = LogisticRegression()\n",
        "    lr.fit(X, y)\n",
        "    model_info = mlflow.sklearn.log_model(sk_model=lr, artifact_path=\"model\")\n",
        "    MODEL_URI = model_info.model_uri"
      ],
      "metadata": {
        "id": "nXuhHxzPGG40"
      },
      "execution_count": null,
      "outputs": []
    },
    {
      "cell_type": "code",
      "source": [
        "# Invoke the MLFlow model\n",
        "\n",
        "sklearn_pyfunc = mlflow.pyfunc.load_model(model_uri=MODEL_URI)\n",
        "data = np.array([-4, 1, 0, 10, -2, 1]).reshape(-1, 1)\n",
        "predictions = sklearn_pyfunc.predict(data)\n",
        "print(predictions)"
      ],
      "metadata": {
        "id": "yxbARoChGsqo"
      },
      "execution_count": null,
      "outputs": []
    },
    {
      "cell_type": "code",
      "source": [
        "# Package the MLFlow model as a Truss\n",
        "\n",
        "import os\n",
        "import truss\n",
        "\n",
        "path_to_model = f\"mlruns/0/{MODEL_URI.split('/')[1]}/artifacts/model\"\n",
        "\n",
        "model = mlflow.pyfunc.load_model(path_to_model)\n",
        "tr = truss.mk_truss(model, target_directory=\"./mlflow_truss_from_pyfunc\")"
      ],
      "metadata": {
        "id": "xIO5y_COGwLO"
      },
      "execution_count": null,
      "outputs": []
    },
    {
      "cell_type": "code",
      "source": [
        "# Invoke the MLFlow model\n",
        "\n",
        "data = np.array([-4, 1, 0, 10, -2, 1]).reshape(-1, 1)\n",
        "predictions = tr.server_predict(data)\n",
        "print(predictions)"
      ],
      "metadata": {
        "id": "yKuoGNxMG-WK"
      },
      "execution_count": null,
      "outputs": []
    }
  ]
}
