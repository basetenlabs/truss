{
 "cells": [
  {
   "cell_type": "code",
   "execution_count": null,
   "id": "5dfc0654",
   "metadata": {},
   "outputs": [],
   "source": [
    "!pip install tensorflow truss\n",
    "# For help installing tensorflow, see https://www.tensorflow.org/install/pip"
   ]
  },
  {
   "cell_type": "code",
   "execution_count": null,
   "id": "8545e307",
   "metadata": {},
   "outputs": [],
   "source": [
    "import tensorflow as tf\n",
    "\n",
    "#Creates tensorflow model\n",
    "model = tf.keras.applications.ResNet50V2(\n",
    "    include_top=True,\n",
    "    weights=\"imagenet\",\n",
    "    classifier_activation=\"softmax\",\n",
    ")"
   ]
  },
  {
   "cell_type": "code",
   "execution_count": null,
   "id": "821a3c58",
   "metadata": {},
   "outputs": [],
   "source": [
    "from truss import mk_truss\n",
    "\n",
    "mk_truss(model, target_directory=\"tensorflow_truss\")"
   ]
  }
 ],
 "metadata": {
  "kernelspec": {
   "display_name": "Python 3 (ipykernel)",
   "language": "python",
   "name": "python3"
  },
  "language_info": {
   "codemirror_mode": {
    "name": "ipython",
    "version": 3
   },
   "file_extension": ".py",
   "mimetype": "text/x-python",
   "name": "python",
   "nbconvert_exporter": "python",
   "pygments_lexer": "ipython3",
   "version": "3.9.9"
  }
 },
 "nbformat": 4,
 "nbformat_minor": 5
}
